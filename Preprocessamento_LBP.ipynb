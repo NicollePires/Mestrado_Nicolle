{
  "nbformat": 4,
  "nbformat_minor": 0,
  "metadata": {
    "colab": {
      "provenance": []
    },
    "kernelspec": {
      "name": "python3",
      "display_name": "Python 3"
    },
    "language_info": {
      "name": "python"
    }
  },
  "cells": [
    {
      "cell_type": "code",
      "execution_count": 1,
      "metadata": {
        "id": "VIV3mMYayTGA"
      },
      "outputs": [],
      "source": [
        "import numpy as np\n",
        "import pandas as pd\n",
        "import cv2\n",
        "import matplotlib.pyplot as plt"
      ]
    },
    {
      "cell_type": "code",
      "source": [
        "# Clona apenas o diretório de imagens usando sparse checkout\n",
        "!git clone --depth 1 --filter=blob:none --sparse https://github.com/MRW-Code/cmac_particle_flow.git\n",
        "%cd cmac_particle_flow\n",
        "!git sparse-checkout set images\n",
        "%cd images\n",
        "\n",
        "# Verifica o conteúdo\n",
        "!ls"
      ],
      "metadata": {
        "colab": {
          "base_uri": "https://localhost:8080/"
        },
        "id": "Wr_6tYd2ynN2",
        "outputId": "701b558e-6bbc-4f3d-a974-e45148dbda3d"
      },
      "execution_count": 2,
      "outputs": [
        {
          "output_type": "stream",
          "name": "stdout",
          "text": [
            "Cloning into 'cmac_particle_flow'...\n",
            "remote: Enumerating objects: 22, done.\u001b[K\n",
            "remote: Counting objects: 100% (22/22), done.\u001b[K\n",
            "remote: Compressing objects: 100% (21/21), done.\u001b[K\n",
            "remote: Total 22 (delta 3), reused 11 (delta 0), pack-reused 0 (from 0)\u001b[K\n",
            "Receiving objects: 100% (22/22), 7.51 KiB | 7.51 MiB/s, done.\n",
            "Resolving deltas: 100% (3/3), done.\n",
            "remote: Enumerating objects: 8, done.\u001b[K\n",
            "remote: Counting objects: 100% (8/8), done.\u001b[K\n",
            "remote: Compressing objects: 100% (7/7), done.\u001b[K\n",
            "remote: Total 8 (delta 1), reused 3 (delta 0), pack-reused 0 (from 0)\u001b[K\n",
            "Receiving objects: 100% (8/8), 5.75 KiB | 5.75 MiB/s, done.\n",
            "Resolving deltas: 100% (1/1), done.\n",
            "/content/cmac_particle_flow\n",
            "remote: Enumerating objects: 98, done.\u001b[K\n",
            "remote: Counting objects: 100% (98/98), done.\u001b[K\n",
            "remote: Compressing objects: 100% (98/98), done.\u001b[K\n",
            "remote: Total 98 (delta 0), reused 98 (delta 0), pack-reused 0 (from 0)\u001b[K\n",
            "Receiving objects: 100% (98/98), 349.55 MiB | 36.23 MiB/s, done.\n",
            "Updating files: 100% (174/174), done.\n",
            "/content/cmac_particle_flow/images\n",
            "Cohesive  Easyflowing  Freeflowing\n"
          ]
        }
      ]
    },
    {
      "cell_type": "code",
      "source": [
        "from PIL import Image\n",
        "from skimage.feature import local_binary_pattern\n",
        "from skimage import io, color\n",
        "import os\n",
        "import pandas as pd\n",
        "import numpy as np\n",
        "\n",
        "# Diretório base contendo as pastas com as imagens\n",
        "base_path = '/content/cmac_particle_flow/images'\n",
        "folders = ['Cohesive', 'Easyflowing', 'Freeflowing']\n",
        "\n",
        "# Divisões desejadas\n",
        "split_list = [2, 3, 4, 5, 6, 7, 8, 9, 10]\n",
        "\n",
        "# Tamanho final de cada subimagem\n",
        "resize_shape = (384, 384)\n",
        "\n",
        "# Loop principal para todas as divisões\n",
        "for split in split_list:\n",
        "    features_all = []\n",
        "    for folder in folders:\n",
        "        folder_path = os.path.join(base_path, folder)\n",
        "        for filename in os.listdir(folder_path):\n",
        "            if filename.lower().endswith(('.jpg', '.png', '.jpeg')):\n",
        "                img_path = os.path.join(folder_path, filename)\n",
        "                img = Image.open(img_path).convert('L')\n",
        "                w, h = img.size\n",
        "\n",
        "                tile_w = w // split\n",
        "                tile_h = h // split\n",
        "\n",
        "                for i in range(split):\n",
        "                    for j in range(split):\n",
        "                        left = j * tile_w\n",
        "                        upper = i * tile_h\n",
        "                        right = (j + 1) * tile_w\n",
        "                        bottom = (i + 1) * tile_h\n",
        "                        tile = img.crop((left, upper, right, bottom))\n",
        "                        tile_resized = tile.resize(resize_shape)\n",
        "                        tile_np = np.array(tile_resized)\n",
        "                        # Aplicando o LBP\n",
        "                        radius = 1\n",
        "                        n_points = 8 * radius\n",
        "                        METHOD = 'uniform'\n",
        "                        lbp_img = local_binary_pattern(tile_np, P=n_points, R=radius, method=METHOD)\n",
        "                        n_bins = int(lbp_img.max() + 1)\n",
        "                        hist, _ = np.histogram(lbp_img.ravel(), bins=n_bins, range=(0, n_bins), density=True)\n",
        "                        # Armazena a linha completa com identificadores\n",
        "                        features_all.append(\n",
        "                            [filename, folder] + list(hist)\n",
        "                        )\n",
        "\n",
        "    # Criar DataFrame\n",
        "    colunas = ['ImageId', 'Classe'] + [f'Feature_LBP_{i+1}' for i in range(len(hist))]\n",
        "    df = pd.DataFrame(features_all, columns=colunas)\n",
        "\n",
        "    # Salvar CSV\n",
        "    csv_name = f'features_lbp_individual_split_{split}x{split}.csv'\n",
        "    df.to_csv(csv_name, index=False)\n",
        "    print(f'Salvo: {csv_name} com shape {df.shape}')"
      ],
      "metadata": {
        "colab": {
          "base_uri": "https://localhost:8080/"
        },
        "id": "ZJ3e5hByytOt",
        "outputId": "ea824d7f-2ae7-4171-d6b0-efd961d3eabf"
      },
      "execution_count": 10,
      "outputs": [
        {
          "output_type": "stream",
          "name": "stdout",
          "text": [
            "Salvo: features_lbp_individual_split_2x2.csv com shape (388, 12)\n",
            "Salvo: features_lbp_individual_split_3x3.csv com shape (873, 12)\n",
            "Salvo: features_lbp_individual_split_4x4.csv com shape (1552, 12)\n",
            "Salvo: features_lbp_individual_split_5x5.csv com shape (2425, 12)\n",
            "Salvo: features_lbp_individual_split_6x6.csv com shape (3492, 12)\n",
            "Salvo: features_lbp_individual_split_7x7.csv com shape (4753, 12)\n",
            "Salvo: features_lbp_individual_split_8x8.csv com shape (6208, 12)\n",
            "Salvo: features_lbp_individual_split_9x9.csv com shape (7857, 12)\n",
            "Salvo: features_lbp_individual_split_10x10.csv com shape (9700, 12)\n"
          ]
        }
      ]
    },
    {
      "cell_type": "code",
      "source": [],
      "metadata": {
        "id": "ocrwcfko3-1m"
      },
      "execution_count": null,
      "outputs": []
    }
  ]
}